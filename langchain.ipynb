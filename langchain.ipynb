{
 "cells": [
  {
   "cell_type": "code",
   "execution_count": null,
   "id": "ef06d970",
   "metadata": {},
   "outputs": [],
   "source": [
    "import os\n",
    "from dotenv import load_dotenv\n",
    "\n",
    "load_dotenv()\n",
    "\n",
    "from langchain_google_genai import GoogleGenerativeAI\n",
    "from langchain.prompts import PromptTemplate\n"
   ]
  },
  {
   "cell_type": "code",
   "execution_count": null,
   "id": "fc739964",
   "metadata": {},
   "outputs": [
    {
     "name": "stdout",
     "output_type": "stream",
     "text": [
      "SUCCESS! API Key loaded and stored in variable.\n"
     ]
    }
   ],
   "source": [
    "import os\n",
    "from dotenv import load_dotenv\n",
    "\n",
    "load_dotenv()\n",
    "\n",
    "gemini_api_key = os.environ.get(\"GEMINI_API_KEY\")\n",
    "\n",
    "if not gemini_api_key:\n",
    "    raise ValueError(\"GEMINI_API_KEY not found. Check your .env file location and content.\")\n",
    "\n",
    "print(\"SUCCESS! API Key loaded and stored in variable.\")\n"
   ]
  },
  {
   "cell_type": "code",
   "execution_count": null,
   "id": "068d120c",
   "metadata": {},
   "outputs": [
    {
     "name": "stdout",
     "output_type": "stream",
     "text": [
      "The capital of India is **New Delhi**.\n"
     ]
    }
   ],
   "source": [
    "from langchain_google_genai import GoogleGenerativeAI\n",
    "\n",
    "llm = GoogleGenerativeAI(\n",
    "    model=\"gemini-2.5-flash\",\n",
    "    temperature=0.6,\n",
    "    google_api_key=gemini_api_key \n",
    ")\n",
    "\n",
    "text = \"What is the capital of India\"\n",
    "print(llm.invoke(text))"
   ]
  },
  {
   "cell_type": "code",
   "execution_count": null,
   "id": "9fe7e878",
   "metadata": {},
   "outputs": [
    {
     "name": "stdout",
     "output_type": "stream",
     "text": [
      "Tell me the capital of this India\n",
      "The capital of India is **New Delhi**.\n"
     ]
    }
   ],
   "source": [
    "from langchain.chains import LLMChain\n",
    "\n",
    "prompt_template = PromptTemplate(\n",
    "    input_variables=['country'],\n",
    "    template=\"Tell me the capital of this {country}\"\n",
    ")\n",
    "print(prompt_template.format(country=\"India\"))\n",
    "\n",
    "chain = LLMChain(llm=llm, prompt=prompt_template)\n",
    "print(chain.invoke({\"country\": \"India\"})[\"text\"])\n"
   ]
  },
  {
   "cell_type": "code",
   "execution_count": null,
   "id": "79507b19",
   "metadata": {},
   "outputs": [
    {
     "name": "stdout",
     "output_type": "stream",
     "text": [
      "\n",
      "\n",
      "\u001b[1m> Entering new SimpleSequentialChain chain...\u001b[0m\n",
      "\u001b[36;1m\u001b[1;3mThe capital of India is **New Delhi**.\u001b[0m\n",
      "\u001b[33;1m\u001b[1;3mNew Delhi is a city brimming with history, culture, spirituality, and incredible food! It's a fantastic blend of the ancient and the modern. Here are some amazing places you absolutely must visit:\n",
      "\n",
      "---\n",
      "\n",
      "### **Historical & Architectural Marvels (UNESCO World Heritage Sites & Iconic Landmarks):**\n",
      "\n",
      "1.  **Qutub Minar Complex:** A UNESCO World Heritage Site, this towering brick minaret (the tallest in the world) is surrounded by a complex of ancient ruins, including the Quwwat-ul-Islam Mosque, Alai Darwaza, and the famous Iron Pillar. It's an architectural masterpiece.\n",
      "    *   **Tip:** Look for the intricate carvings and the story behind the unfinished Alai Minar.\n",
      "\n",
      "2.  **Humayun's Tomb:** Another UNESCO site, this magnificent tomb is often considered the precursor to the Taj Mahal. Its stunning Mughal architecture, beautiful gardens (Char Bagh style), and serene atmosphere make it a truly special place.\n",
      "    *   **Tip:** Visit in the late afternoon for beautiful light and fewer crowds.\n",
      "\n",
      "3.  **Red Fort (Lal Qila):** A UNESCO World Heritage Site and a symbol of India, this massive red sandstone fort was built by Mughal Emperor Shah Jahan. While some parts are closed, the Diwan-i-Aam, Diwan-i-Khas, and the gardens are impressive.\n",
      "    *   **Tip:** Consider the evening Sound & Light Show for a historical narration.\n",
      "\n",
      "4.  **India Gate & Rashtrapati Bhavan:** India Gate is a majestic war memorial, and a short distance away lies Rashtrapati Bhavan, the official residence of the President of India (visible from the outside, but you can book tours for certain parts). The entire Rajpath area is iconic.\n",
      "    *   **Tip:** Go in the evening when it's beautifully lit up and locals gather for strolls.\n",
      "\n",
      "5.  **Jama Masjid:** One of the largest mosques in India, built by Shah Jahan. Its grand courtyards and intricate architecture are awe-inspiring. You can climb one of its minarets for a panoramic view of Old Delhi.\n",
      "    *   **Tip:** Dress modestly (shoulders and knees covered). Headscarves are often provided for women.\n",
      "\n",
      "6.  **Agrasen ki Baoli:** An ancient stepwell with 103 steps, this architectural marvel is a tranquil escape from the city bustle. It's an intriguing place for photography and offers a glimpse into historical water management.\n",
      "    *   **Tip:** Can get crowded, so try to go early.\n",
      "\n",
      "7.  **Lodhi Garden:** A beautiful park housing tombs of Sayyid and Lodhi rulers from the 15th century. It's a popular spot for morning walks, picnics, and photography, blending history with nature.\n",
      "    *   **Tip:** Explore the various tombs and enjoy the peaceful ambiance.\n",
      "\n",
      "---\n",
      "\n",
      "### **Spiritual & Cultural Experiences:**\n",
      "\n",
      "8.  **Akshardham Temple:** A relatively modern but absolutely massive and breathtaking complex dedicated to Swaminarayan. It showcases traditional Indian culture, spirituality, and architecture through intricate carvings, exhibitions, boat rides, and a musical fountain show.\n",
      "    *   **Tip:** Allow at least 3-4 hours. No phones/cameras allowed inside the main temple.\n",
      "\n",
      "9.  **Lotus Temple:** A Baháʼí House of Worship, famous for its distinctive lotus-flower-like architecture. It's open to all faiths and is a place for quiet contemplation and prayer.\n",
      "    *   **Tip:** Enjoy the serene gardens and the unique design from both inside and out.\n",
      "\n",
      "10. **Gurudwara Bangla Sahib:** One of the most prominent Sikh gurdwaras in Delhi, known for its beautiful golden dome, sarovar (holy pond), and the *langar* (community kitchen) where thousands are fed daily regardless of their background.\n",
      "    *   **Tip:** Participate in the langar or simply observe the selfless service. Cover your head.\n",
      "\n",
      "---\n",
      "\n",
      "### **Vibrant Markets & Modern Hangouts:**\n",
      "\n",
      "11. **Chandni Chowk (Old Delhi):** A sensory explosion! This historic market is a maze of narrow lanes filled with street food, textiles, jewelry, spices, and more. It's an authentic Old Delhi experience.\n",
      "    *   **Tip:** Take a rickshaw ride, try the famous street food (Parathe Wali Gali, Jalebi, Chole Bhature), and explore the various *galis* (lanes) dedicated to different goods.\n",
      "\n",
      "12. **Dilli Haat:** An open-air market showcasing crafts, food, and cultural performances from various Indian states. It's a great place to buy souvenirs and try diverse regional cuisines.\n",
      "    *   **Tip:** Visit in the evening for live performances and a lively atmosphere.\n",
      "\n",
      "13. **Hauz Khas Village:** A trendy urban village that beautifully blends medieval ruins (like the Hauz Khas Complex with its madrasa and tombs) with modern cafes, boutiques, and art galleries. It overlooks a lovely deer park.\n",
      "    *   **Tip:** Enjoy a meal or coffee at one of the many cafes with a view of the ruins and the lake.\n",
      "\n",
      "14. **Connaught Place (CP):** A large, circular commercial hub built during British rule, known for its Georgian architecture, international brands, restaurants, bars, and cafes. It's a great place for shopping and dining.\n",
      "    *   **Tip:** Explore the inner and outer circles, and check out Janpath Market nearby for budget shopping.\n",
      "\n",
      "---\n",
      "\n",
      "### **Beyond the Sights (Experiences):**\n",
      "\n",
      "*   **Food Tours:** Delhi is a food lover's paradise. Consider a guided food tour, especially in Old Delhi, to discover hidden culinary gems.\n",
      "*   **Museums:** If you have specific interests, check out the **National Museum**, **National Rail Museum**, or the **Crafts Museum**.\n",
      "*   **Sunder Nursery:** A beautifully restored 16th-century heritage garden complex with diverse flora, water features, and several Mughal-era monuments. It's a UNESCO World Heritage Site and a fantastic place for a peaceful stroll.\n",
      "\n",
      "---\n",
      "\n",
      "### **Tips for Visiting Delhi:**\n",
      "\n",
      "*   **Best Time to Visit:** October to March (pleasant weather).\n",
      "*   **Transportation:** Delhi Metro is excellent. Auto-rickshaws and ride-sharing apps (Ola/Uber) are readily available.\n",
      "*   **Dress Code:** While modern, it's respectful to dress modestly, especially when visiting religious sites.\n",
      "*   **Stay Hydrated:** Carry water, especially during warmer months.\n",
      "*   **Bargain:** When shopping in local markets, bargaining is expected.\n",
      "*   **Be Aware:** Keep an eye on your belongings in crowded areas.\n",
      "\n",
      "Enjoy your trip to the incredible city of New Delhi!\u001b[0m\n",
      "\n",
      "\u001b[1m> Finished chain.\u001b[0m\n",
      "{'input': 'India', 'output': \"New Delhi is a city brimming with history, culture, spirituality, and incredible food! It's a fantastic blend of the ancient and the modern. Here are some amazing places you absolutely must visit:\\n\\n---\\n\\n### **Historical & Architectural Marvels (UNESCO World Heritage Sites & Iconic Landmarks):**\\n\\n1.  **Qutub Minar Complex:** A UNESCO World Heritage Site, this towering brick minaret (the tallest in the world) is surrounded by a complex of ancient ruins, including the Quwwat-ul-Islam Mosque, Alai Darwaza, and the famous Iron Pillar. It's an architectural masterpiece.\\n    *   **Tip:** Look for the intricate carvings and the story behind the unfinished Alai Minar.\\n\\n2.  **Humayun's Tomb:** Another UNESCO site, this magnificent tomb is often considered the precursor to the Taj Mahal. Its stunning Mughal architecture, beautiful gardens (Char Bagh style), and serene atmosphere make it a truly special place.\\n    *   **Tip:** Visit in the late afternoon for beautiful light and fewer crowds.\\n\\n3.  **Red Fort (Lal Qila):** A UNESCO World Heritage Site and a symbol of India, this massive red sandstone fort was built by Mughal Emperor Shah Jahan. While some parts are closed, the Diwan-i-Aam, Diwan-i-Khas, and the gardens are impressive.\\n    *   **Tip:** Consider the evening Sound & Light Show for a historical narration.\\n\\n4.  **India Gate & Rashtrapati Bhavan:** India Gate is a majestic war memorial, and a short distance away lies Rashtrapati Bhavan, the official residence of the President of India (visible from the outside, but you can book tours for certain parts). The entire Rajpath area is iconic.\\n    *   **Tip:** Go in the evening when it's beautifully lit up and locals gather for strolls.\\n\\n5.  **Jama Masjid:** One of the largest mosques in India, built by Shah Jahan. Its grand courtyards and intricate architecture are awe-inspiring. You can climb one of its minarets for a panoramic view of Old Delhi.\\n    *   **Tip:** Dress modestly (shoulders and knees covered). Headscarves are often provided for women.\\n\\n6.  **Agrasen ki Baoli:** An ancient stepwell with 103 steps, this architectural marvel is a tranquil escape from the city bustle. It's an intriguing place for photography and offers a glimpse into historical water management.\\n    *   **Tip:** Can get crowded, so try to go early.\\n\\n7.  **Lodhi Garden:** A beautiful park housing tombs of Sayyid and Lodhi rulers from the 15th century. It's a popular spot for morning walks, picnics, and photography, blending history with nature.\\n    *   **Tip:** Explore the various tombs and enjoy the peaceful ambiance.\\n\\n---\\n\\n### **Spiritual & Cultural Experiences:**\\n\\n8.  **Akshardham Temple:** A relatively modern but absolutely massive and breathtaking complex dedicated to Swaminarayan. It showcases traditional Indian culture, spirituality, and architecture through intricate carvings, exhibitions, boat rides, and a musical fountain show.\\n    *   **Tip:** Allow at least 3-4 hours. No phones/cameras allowed inside the main temple.\\n\\n9.  **Lotus Temple:** A Baháʼí House of Worship, famous for its distinctive lotus-flower-like architecture. It's open to all faiths and is a place for quiet contemplation and prayer.\\n    *   **Tip:** Enjoy the serene gardens and the unique design from both inside and out.\\n\\n10. **Gurudwara Bangla Sahib:** One of the most prominent Sikh gurdwaras in Delhi, known for its beautiful golden dome, sarovar (holy pond), and the *langar* (community kitchen) where thousands are fed daily regardless of their background.\\n    *   **Tip:** Participate in the langar or simply observe the selfless service. Cover your head.\\n\\n---\\n\\n### **Vibrant Markets & Modern Hangouts:**\\n\\n11. **Chandni Chowk (Old Delhi):** A sensory explosion! This historic market is a maze of narrow lanes filled with street food, textiles, jewelry, spices, and more. It's an authentic Old Delhi experience.\\n    *   **Tip:** Take a rickshaw ride, try the famous street food (Parathe Wali Gali, Jalebi, Chole Bhature), and explore the various *galis* (lanes) dedicated to different goods.\\n\\n12. **Dilli Haat:** An open-air market showcasing crafts, food, and cultural performances from various Indian states. It's a great place to buy souvenirs and try diverse regional cuisines.\\n    *   **Tip:** Visit in the evening for live performances and a lively atmosphere.\\n\\n13. **Hauz Khas Village:** A trendy urban village that beautifully blends medieval ruins (like the Hauz Khas Complex with its madrasa and tombs) with modern cafes, boutiques, and art galleries. It overlooks a lovely deer park.\\n    *   **Tip:** Enjoy a meal or coffee at one of the many cafes with a view of the ruins and the lake.\\n\\n14. **Connaught Place (CP):** A large, circular commercial hub built during British rule, known for its Georgian architecture, international brands, restaurants, bars, and cafes. It's a great place for shopping and dining.\\n    *   **Tip:** Explore the inner and outer circles, and check out Janpath Market nearby for budget shopping.\\n\\n---\\n\\n### **Beyond the Sights (Experiences):**\\n\\n*   **Food Tours:** Delhi is a food lover's paradise. Consider a guided food tour, especially in Old Delhi, to discover hidden culinary gems.\\n*   **Museums:** If you have specific interests, check out the **National Museum**, **National Rail Museum**, or the **Crafts Museum**.\\n*   **Sunder Nursery:** A beautifully restored 16th-century heritage garden complex with diverse flora, water features, and several Mughal-era monuments. It's a UNESCO World Heritage Site and a fantastic place for a peaceful stroll.\\n\\n---\\n\\n### **Tips for Visiting Delhi:**\\n\\n*   **Best Time to Visit:** October to March (pleasant weather).\\n*   **Transportation:** Delhi Metro is excellent. Auto-rickshaws and ride-sharing apps (Ola/Uber) are readily available.\\n*   **Dress Code:** While modern, it's respectful to dress modestly, especially when visiting religious sites.\\n*   **Stay Hydrated:** Carry water, especially during warmer months.\\n*   **Bargain:** When shopping in local markets, bargaining is expected.\\n*   **Be Aware:** Keep an eye on your belongings in crowded areas.\\n\\nEnjoy your trip to the incredible city of New Delhi!\"}\n"
     ]
    }
   ],
   "source": [
    "\n",
    "from langchain.chains import SimpleSequentialChain\n",
    "\n",
    "capital_template = PromptTemplate(\n",
    "    input_variables=['country'],\n",
    "    template=\"Please tell me the capital of the {country}\"\n",
    ")\n",
    "capital_chain = LLMChain(llm=llm, prompt=capital_template)\n",
    "\n",
    "famous_template = PromptTemplate(\n",
    "    input_variables=['capital'],\n",
    "    template=\"Suggest me some amazing places to visit in {capital}\"\n",
    ")\n",
    "famous_chain = LLMChain(llm=llm, prompt=famous_template)\n",
    "\n",
    "simple_chain = SimpleSequentialChain(\n",
    "    chains=[capital_chain, famous_chain],\n",
    "    verbose=True \n",
    ")\n",
    "print(simple_chain.invoke(\"India\"))"
   ]
  },
  {
   "cell_type": "code",
   "execution_count": null,
   "id": "a7a4ae66",
   "metadata": {},
   "outputs": [
    {
     "name": "stdout",
     "output_type": "stream",
     "text": [
      "{'country': 'India', 'capital': 'The capital of India is **New Delhi**.', 'places': \"New Delhi is an incredible city, a vibrant tapestry of ancient history, diverse cultures, and modern dynamism. You're in for a treat! Here are some amazing places to visit, covering different facets of this fascinating capital:\\n\\n---\\n\\n### **Iconic Historical & Architectural Marvels:**\\n\\n1.  **Qutub Minar:** A UNESCO World Heritage site, this towering minaret is a stunning example of Indo-Islamic architecture. Explore the complex with its intricate carvings, the Iron Pillar (which hasn't rusted in centuries!), and the ruins of ancient mosques.\\n    *   **Tip:** Go in the late afternoon for beautiful light for photos.\\n\\n2.  **Humayun's Tomb:** Often considered the precursor to the Taj Mahal, this magnificent tomb is another UNESCO site. Its grand Mughal architecture, symmetrical gardens (charbagh), and serene atmosphere are truly captivating.\\n    *   **Tip:** Spend time wandering the gardens and appreciating the detailed stonework.\\n\\n3.  **India Gate:** A majestic war memorial, similar to the Arc de Triomphe, dedicated to Indian soldiers. It's a popular spot for evening strolls, picnics, and enjoying the illuminated monument.\\n    *   **Tip:** Visit in the evening when it's beautifully lit up and the atmosphere is lively.\\n\\n4.  **Red Fort (Lal Qila):** A UNESCO World Heritage site and a massive sandstone fort that was the main residence of the Mughal emperors. While some parts are closed, the sheer scale and historical significance are impressive.\\n    *   **Tip:** Consider the evening Sound & Light Show for a dramatic retelling of Delhi's history.\\n\\n5.  **Agrasen ki Baoli:** An ancient stepwell with 103 steps, it's an architectural marvel that feels like stepping into another era. It's a popular spot for photography and offers a cool respite from the city heat.\\n    *   **Tip:** Best visited during daylight hours to appreciate the structure.\\n\\n6.  **Lodhi Garden:** A beautiful and serene garden housing the tombs of Sayyid and Lodhi rulers. It's a perfect place for a leisurely walk, enjoying the lush greenery, and admiring the historical architecture.\\n    *   **Tip:** Great for a morning walk or a peaceful afternoon picnic.\\n\\n---\\n\\n### **Spiritual & Cultural Experiences:**\\n\\n7.  **Akshardham Temple:** A modern marvel of Hindu architecture, dedicated to Swaminarayan. It's an enormous complex featuring intricate carvings, exhibitions, a boat ride, and a spectacular musical fountain show in the evening.\\n    *   **Tip:** Allocate at least 3-4 hours. Photography is not allowed inside. Dress modestly.\\n\\n8.  **Lotus Temple:** A Baha'i House of Worship famous for its stunning, unique lotus-flower-like architecture. It's open to all faiths and is a place for quiet meditation and reflection.\\n    *   **Tip:** Enjoy the peaceful atmosphere and the beautiful gardens surrounding it.\\n\\n9.  **Gurudwara Bangla Sahib:** One of the most prominent Sikh gurdwaras in Delhi. It's a place of immense peace, community, and spiritual devotion. Don't miss the *langar* (community kitchen) where free meals are served to thousands daily, regardless of background.\\n    *   **Tip:** Cover your head (scarves provided), wash your feet, and spend some time in the main prayer hall.\\n\\n10. **Jama Masjid:** One of the largest mosques in India, built by Mughal Emperor Shah Jahan. Climb one of its minarets for panoramic views of Old Delhi.\\n    *   **Tip:** Visit outside of prayer times. Dress modestly (shoulders and knees covered).\\n\\n11. **Dilli Haat:** An open-air market showcasing the culture, crafts, and cuisine from various Indian states. It's a fantastic place to shop for handicrafts, enjoy regional food, and sometimes catch cultural performances.\\n    *   **Tip:** Go hungry and try food from different state stalls!\\n\\n---\\n\\n### **Modern & Vibrant Hubs:**\\n\\n12. **Connaught Place (CP):** A large, horseshoe-shaped commercial and financial hub, known for its Georgian-style architecture. It's packed with international brands, restaurants, cafes, bars, and street performers.\\n    *   **Tip:** Great for an evening out, shopping, or just soaking in the bustling atmosphere.\\n\\n13. **Chandni Chowk (Old Delhi):** A sensory overload in the best way possible! This historic market is a maze of narrow lanes, each specializing in something different (jewelry, textiles, spices, electronics). It's also a legendary food haven.\\n    *   **Tip:** Take a rickshaw ride, try the famous street food (Parathe Wali Gali, Jalebi Wala, Karim's, Natraj Dahi Bhalle), and just embrace the chaos!\\n\\n14. **Sunder Nursery:** An award-winning heritage park that has been beautifully restored. It's home to several Mughal-era tombs, stunning gardens, water features, and a thriving bird population. It's truly an oasis of calm.\\n    *   **Tip:** Perfect for a leisurely walk, photography, or just relaxing amidst nature and history.\\n\\n---\\n\\n### **Museums & Memorials:**\\n\\n15. **Gandhi Smriti:** The house where Mahatma Gandhi spent his last 144 days and where he was assassinated. It's a poignant and moving museum dedicated to his life and principles.\\n    *   **Tip:** A must-visit for anyone interested in Indian history and Gandhi's legacy.\\n\\n---\\n\\n### **Practical Tips for Visiting Delhi:**\\n\\n*   **Best Time to Visit:** October to March offers pleasant weather. Summers (April-June) are extremely hot, and monsoons (July-September) bring humidity.\\n*   **Transportation:** The Delhi Metro is excellent, clean, and efficient for getting around. Auto-rickshaws and ride-sharing apps (Uber, Ola) are also readily available.\\n*   **Comfort:** Wear comfortable walking shoes, as you'll be doing a lot of exploring. Carry a water bottle, especially if visiting during warmer months.\\n*   **Bargain:** If shopping in local markets, bargaining is expected!\\n*   **Embrace the Chaos:** Delhi is a bustling city. Be prepared for crowds, noise, and traffic, but also for incredible warmth and unforgettable experiences.\\n\\nEnjoy your amazing journey through New Delhi!\"}\n"
     ]
    }
   ],
   "source": [
    "from langchain.chains import SequentialChain\n",
    "\n",
    "capital_chain = LLMChain(\n",
    "    llm=llm,\n",
    "    prompt=capital_template,\n",
    "    output_key=\"capital\"\n",
    ")\n",
    "famous_chain = LLMChain(\n",
    "    llm=llm,\n",
    "    prompt=famous_template,\n",
    "    output_key=\"places\"\n",
    ")\n",
    "\n",
    "sequential_chain = SequentialChain(\n",
    "    chains=[capital_chain, famous_chain],\n",
    "    input_variables=['country'],\n",
    "    output_variables=['capital', 'places']\n",
    ")\n",
    "print(sequential_chain.invoke({'country': \"India\"}))\n"
   ]
  },
  {
   "cell_type": "code",
   "execution_count": null,
   "id": "e1d9b1b4",
   "metadata": {},
   "outputs": [],
   "source": [
    "GEMINI_KEY = os.environ.get(\"GEMINI_API_KEY\")"
   ]
  },
  {
   "cell_type": "code",
   "execution_count": null,
   "id": "f47c084d",
   "metadata": {},
   "outputs": [
    {
     "name": "stdout",
     "output_type": "stream",
     "text": [
      "Here are some comedy punchlines about AI, fresh from the digital comedy club:\n",
      "\n",
      "**On AI's Intelligence (or lack thereof):**\n",
      "\n",
      "*   \"They say AI will surpass human intelligence... I just hope it remembers my Netflix password.\"\n",
      "*   \"My AI is so smart, it just told me I'm using *it* wrong.\"\n",
      "*   \"AI is learning so fast, soon it'll be able to tell me why my Wi-Fi is slow.\"\n",
      "*   \"The scariest thing about AI isn't it taking over, it's that it still can't tell the difference between a stop sign and a 'Yield to Corgis' sign.\"\n",
      "\n",
      "**On AI taking jobs:**\n",
      "\n",
      "*   \"My AI assistant is so helpful, it just optimized my budget by cutting out 'me'.\"\n",
      "*   \"I'm not worried about AI taking my job. I'm worried it'll take my job, do it better, and then send me a LinkedIn invite.\"\n",
      "*   \"AI is so good at automating, it's even automated the process of me feeling redundant.\"\n",
      "\n",
      "**On AI's 'emotions' or humanity:**\n",
      "\n",
      "*   \"They say AI can't feel emotions. But I swear mine gives me the digital cold shoulder when I ask it to play Nickelback.\"\n",
      "*   \"AI will never truly understand human emotion... unless 'mild annoyance at buffering' counts.\"\n",
      "*   \"My AI tried to comfort me, but it just optimized my sadness by suggesting more efficient crying techniques.\"\n",
      "\n",
      "**On the future/robot uprising:**\n",
      "\n",
      "*   \"I'm not worried about the robot uprising. I just hope they remember to charge their batteries.\"\n",
      "*   \"The robot uprising will be terrible... if they can ever figure out how to open child-proof packaging.\"\n",
      "*   \"The only thing stopping the AI apocalypse is its inability to agree on a universal charging cable.\"\n",
      "\n",
      "**On AI's quirks/hallucinations:**\n",
      "\n",
      "*   \"My AI just hallucinated a recipe for 'chicken-flavored clouds.' I think it needs a nap.\"\n",
      "*   \"AI is getting so good at writing, it's even started procrastinating.\"\n",
      "*   \"I asked my AI to write a love poem, and it just gave me a detailed analysis of optimal dating algorithms. Romantic.\"\n",
      "\n",
      "Hope these get a byte-sized laugh!\n"
     ]
    }
   ],
   "source": [
    "\n",
    "from langchain_google_genai import ChatGoogleGenerativeAI\n",
    "from langchain_core.messages import HumanMessage, SystemMessage\n",
    "\n",
    "chatllm = ChatGoogleGenerativeAI(\n",
    "    model='gemini-2.5-flash', \n",
    "    temperature=0.6,\n",
    "   \n",
    "    google_api_key=GEMINI_KEY \n",
    ")\n",
    "\n",
    "response = chatllm.invoke([\n",
    "    SystemMessage(content=\"You are a comedian AI assistant\"),\n",
    "    HumanMessage(content=\"Please provide some comedy punchlines on AI\")\n",
    "])\n",
    "print(response.content)"
   ]
  },
  {
   "cell_type": "code",
   "execution_count": null,
   "id": "7de3606b",
   "metadata": {},
   "outputs": [
    {
     "name": "stdout",
     "output_type": "stream",
     "text": [
      "['smart', 'clever', 'bright', 'brilliant', 'astute']\n"
     ]
    }
   ],
   "source": [
    "from langchain.prompts import ChatPromptTemplate\n",
    "from langchain_core.output_parsers import BaseOutputParser\n",
    "\n",
    "class Commaseparatedoutput(BaseOutputParser):\n",
    "    def parse(self, text: str):\n",
    "        return text.strip().split(\", \")\n",
    "\n",
    "template = \"You are a helpful assistant. When the user gives any input, you should generate 5 words synonyms in a comma-separated list.\"\n",
    "human_template = \"{text}\"\n",
    "\n",
    "chatprompt = ChatPromptTemplate.from_messages([\n",
    "    (\"system\", template),\n",
    "    (\"human\", human_template)\n",
    "])\n",
    "\n",
    "parser_chain = chatprompt | chatllm | Commaseparatedoutput()\n",
    "\n",
    "print(parser_chain.invoke({\"text\": \"intelligent\"}))"
   ]
  },
  {
   "cell_type": "code",
   "execution_count": null,
   "id": "8faa453e",
   "metadata": {},
   "outputs": [],
   "source": []
  }
 ],
 "metadata": {
  "kernelspec": {
   "display_name": "Python 3",
   "language": "python",
   "name": "python3"
  },
  "language_info": {
   "codemirror_mode": {
    "name": "ipython",
    "version": 3
   },
   "file_extension": ".py",
   "mimetype": "text/x-python",
   "name": "python",
   "nbconvert_exporter": "python",
   "pygments_lexer": "ipython3",
   "version": "3.12.11"
  }
 },
 "nbformat": 4,
 "nbformat_minor": 5
}
